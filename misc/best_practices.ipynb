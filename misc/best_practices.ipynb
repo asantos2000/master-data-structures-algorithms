{
 "cells": [
  {
   "cell_type": "markdown",
   "metadata": {},
   "source": [
    "# 18 bad habits in Python programming, you must abandon them\n",
    "\n",
    "Ref: <https://blog.devgenius.io/18-bad-habits-in-python-programming-you-must-abandon-them-ba1fac65b4d>\n",
    "\n",
    "How to improve your Python programming level\n",
    "\n",
    "These bad habits will expose the developer’s inexperience in Python. By abandoning these habits and writing code in a Pythonic way, you can improve the quality and reputation of your code."
   ]
  },
  {
   "cell_type": "markdown",
   "metadata": {},
   "source": [
    "## 1. Use + sign for splicing strings"
   ]
  },
  {
   "cell_type": "code",
   "execution_count": 2,
   "metadata": {},
   "outputs": [
    {
     "name": "stdout",
     "output_type": "stream",
     "text": [
      "Wow Anderson! you have 1000000 subscribers!\n",
      "Lol Anderson that's not many subs\n"
     ]
    }
   ],
   "source": [
    "# Bad practice:\n",
    "name = \"Anderson\"\n",
    "subscribers = 1_000_000\n",
    "\n",
    "print(\"Wow \" + name + \"! you have \" + str(subscribers) + \" subscribers!\")\n",
    "\n",
    "print(\"Lol \" + name + \" that's not many subs\")"
   ]
  },
  {
   "cell_type": "code",
   "execution_count": 3,
   "metadata": {},
   "outputs": [
    {
     "name": "stdout",
     "output_type": "stream",
     "text": [
      "Wow Anderson! you have 1000000 subscribers!\n",
      "Lol Anderson that's not many subs\n"
     ]
    }
   ],
   "source": [
    "# A good practice is to use f-string, and it will be more efficient:\n",
    "name = \"Anderson\"\n",
    "subscribers = 1_000_000\n",
    "\n",
    "print(f\"Wow {name}! you have {subscribers} subscribers!\")\n",
    "print(f\"Lol {name} that's not many subs\")"
   ]
  },
  {
   "cell_type": "markdown",
   "metadata": {},
   "source": [
    "## 11. Use a C-style for loop"
   ]
  },
  {
   "cell_type": "code",
   "execution_count": 4,
   "metadata": {},
   "outputs": [
    {
     "name": "stdout",
     "output_type": "stream",
     "text": [
      "1\n",
      "2\n",
      "3\n",
      "1 4\n",
      "2 5\n",
      "3 6\n"
     ]
    }
   ],
   "source": [
    "# Bad practice\n",
    "a = [1, 2, 3]\n",
    "b = [4, 5, 6]\n",
    "\n",
    "for i in range(len(a)):\n",
    "    print(a[i])\n",
    "\n",
    "for i in range(len(b)):\n",
    "    av = a[i]\n",
    "    bv = b[i]\n",
    "    print(av, bv)"
   ]
  },
  {
   "cell_type": "code",
   "execution_count": 8,
   "metadata": {},
   "outputs": [
    {
     "name": "stdout",
     "output_type": "stream",
     "text": [
      "1\n",
      "2\n",
      "3\n",
      "enumerate:  0 1\n",
      "enumerate:  1 2\n",
      "enumerate:  2 3\n",
      "1 4\n",
      "2 5\n",
      "3 6\n"
     ]
    }
   ],
   "source": [
    "# Good practice\n",
    "a = [1, 2, 3]\n",
    "b = [4, 5, 6]\n",
    "\n",
    "for v in a:\n",
    "    print(v)\n",
    "\n",
    "# or if you wanted the index\n",
    "for i, v in enumerate(a):\n",
    "    print(\"enumerate: \", i, v)\n",
    "\n",
    "# instead use zip\n",
    "for av, bv in zip(a, b):\n",
    "    print(av, bv)"
   ]
  },
  {
   "cell_type": "code",
   "execution_count": null,
   "metadata": {},
   "outputs": [],
   "source": []
  }
 ],
 "metadata": {
  "interpreter": {
   "hash": "1d1acba9729f04eb8eb4a3f9d01a2b7197b2bba80188d34db0be252369868690"
  },
  "kernelspec": {
   "display_name": "Python 3.9.5 ('py3')",
   "language": "python",
   "name": "python3"
  },
  "language_info": {
   "codemirror_mode": {
    "name": "ipython",
    "version": 3
   },
   "file_extension": ".py",
   "mimetype": "text/x-python",
   "name": "python",
   "nbconvert_exporter": "python",
   "pygments_lexer": "ipython3",
   "version": "3.9.5"
  },
  "orig_nbformat": 4
 },
 "nbformat": 4,
 "nbformat_minor": 2
}
