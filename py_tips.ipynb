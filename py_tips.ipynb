{
 "cells": [
  {
   "cell_type": "markdown",
   "id": "68dfc45c-25c3-4bab-97b3-6a20b861efd1",
   "metadata": {},
   "source": [
    "# py_tips\n",
    "\n",
    "## itertools and functools : Two Python Lone Soldiers\n",
    "\n",
    "Ref: <https://towardsdatascience.com/itertools-and-functools-two-python-lone-soldiers-7d3400495c89>, <https://docs.python.org/3/library/itertools.html>"
   ]
  },
  {
   "cell_type": "code",
   "execution_count": 1,
   "id": "6a3ee176-540b-41b4-b9e1-16fa6a15e35a",
   "metadata": {},
   "outputs": [],
   "source": [
    "from itertools import cycle"
   ]
  },
  {
   "cell_type": "markdown",
   "id": "631dfdb4-33f9-40e8-a117-0eca2d69a6ec",
   "metadata": {},
   "source": [
    "### Cycle"
   ]
  },
  {
   "cell_type": "code",
   "execution_count": 5,
   "id": "9df3ce8e-98c8-48fb-8b32-79324fd28317",
   "metadata": {},
   "outputs": [
    {
     "name": "stdout",
     "output_type": "stream",
     "text": [
      "ABCDABCDABCDABCDABCDABCDABCDABCDABCDABCDABCDABCDABCDABCDABCDABCDABCDABCDABCDABCDABCDABCDABCDABCDABCDABCDABCDABCDABCDABCDABCDABCDABCDABCDABCDABCDABCDABCDABCDABCDABCDABCDABCDABCDABCDABCDABCDABCDABCDABCDABCDABCDABCDABCDABCDABCDABCDABCDABCDABCDABCDABCDABCDABCDABCDABCDABCDABCDABCDABCDABCDABCDABCDABCDABCDABCDABCDABCDABCDABCDABCDABCDABCDABCDABCDABCDABCDABCDABCDABCDABCDABCDABCDABCDABCDABCDABCDABCDABCDABCDABCDABCDABCDABCDABCDABCDABCDABCDABCDABCDABCDABCDABCDABCDABCDABCDABCDABCDABCDABCDABCDABCDABCDABCDABCDABCDABCDABCDABCDABCDABCDABCDABCDABCDABCDABCDABCDABCDABCDABCDABCDABCDABCDABCDABCDABCDABCDABCDABCDABCDABCDABCDABCDABCDABCDABCDABCDABCDABCDABCDABCDABCDABCDABCDABCDABCDABCDABCDABCDABCDABCDABCDABCDABCDABCDABCDABCDABCDABCDABCDABCDABCDABCDABCDABCDABCDABCDABCDABCDABCDABCDABCDABCDABCDABCDABCDABCDABCDABCDABCDABCDABCDABCDABCDABCDABCDABCDABCDABCDABCDABCDABCDABCDABCDABCDABCDABCDABCDABCDABCDABCDABCDABCDABCDABCDABCDABCDABCDABCDABCDABCDABCDABCDABCDABCDABCDABCDABCDABCDABCDABCDABCDABCDABCDABCDABCDABCDABCDABCDABCDABCDABCDABCDABCDABCDABCDABCDABCDABCDABCDABCDABCDABCDABCDABCDABCDABCDABCDABCDABCDABCDABCDABCDABCDABCDABCDABCDABCDABCDABCDABCDABCDABCDABCDABCDABCDABCDABCDABCDABCDABCDABCDABCDABCDABCDABCDABCDABCDABCDABCDABCDABCDABCDABCDABCDABCDABCDABCDABCDABCDABCDABCDABCDABCDABCDABCDABCDABCDABCDABCDABCDABCDABCDABCDABCDABCDABCDABCDABCDABCDABCDABCDABCDABCDABCDABCDABCDABCDABCDABCDABCDABCDABCDABCDABCDABCDABCDABCDABCDABCDABCDABCDABCDABCDABCDABCDABCDABCDABCDABCDABCDABCDABCDABCDABCDABCDABCDABCDABCDABCDABCDABCDABCDABCDABCDABCDABCDABCDABCDABCDABCDABCDABCDABCDABCDABCDABCDABCDABCDABCDABCDABCDABCDABCDABCDABCDABCDABCDABCDABCDABCDABCDABCDABCDABCDABCDABCDABCDABCDABCDABCDABCDABCDABCDABCDABCDABCDABCDABCDABCDABCDABCDABCDABCDABCDABCDABCDABCDABCDABCDABCDABCDABCDABCDABCDABCDABCDABCDABCDABCDABCDABCDABCDABCDABCDABCDABCDABCDABCDABCDABCDABCDABCDABCDABCDABCDABCDABCDABCDABCDABCDABCDABCDABCDABCDABCDABCDABCDABCDABCDABCDABCDABCDABCDABCDABCDABCDABCDABCDABCDABCDABCDABCDABCDABCDABCDABCDABCDABCDABCDABCDABCDABCDABCDABCDABCDABCDABCDABCDABCDABCDABCDABCDABCDABCDABCDABCDABCDABCDABCDABCDABCDABCDABCDABCDABCDABCDABCDABCDABCDABCDABCDABCDABCDABCDABCDABCDABCDABCDABCDABCDABCDABCDABCDABCDABCDABCDABCDABCDABCDABCDABCDABCDABCDABCDABCDABCDABCDABCDABCDABCDABCDABCDABCDABCDABCDABCDABCDABCDABCDABCDABCDABCDABCDABCDABCDABCDABCDABCDABCDABCDABCDABCDABCDABCDABCDABCDABCDABCDABCDABCDABCDABCDABCDABCDABCDABCDABCDABCDABCDABCDABCDABCDABCDABCDABCDABCDABCDABCDABCDABCDABCDABCDABCDABCDABCDABCDABCDABCDABCDABCDABCDABCDABCDABCDABCDABCDABCDABCDABCDABCDABCDABCDABCDABCDABCDABCDABCDABCDABCDABCDABCDABCDABCDABCDABCDABCDABCDABCDABCDABCDABCDABCDABCDABCDABCDABCDABCDABCDABCDABCDABCDABCDABCDABCDABCDABCDABCDABCDABCDABCDABCDABCDABCDABCDABCDABCDABCDABCDABCDABCDABCDABCDABCDABCDABCDABCDABCDABCDABCDABCDABCDABCDABCDABCDABCDABCDABCDABCDABCDABCDABCDABCDABCDABCDABCDABCDABCDABCDABCDABCDABCDABCDABCDABCDABCDABCDABCDABCDABCDABCDABCDABCDABCDABCDABCDABCDABCDABCDABCDABCDABCDABCDABCDABCDABCDABCDABCDABCDABCDABCDABCDABCDABCDABCDABCDABCDABCDABCDABCDABCDABCDABCDABCDABCDABCDABCDABCDABCDABCDABCDABCDABCDABCDABCDABCDABCDABCDABCDABCDABCDABCDABCDABCDABCDABCDABCDABCDABCDABCDABCDABCDABCDABCDABCDABCDABCDABCDABCDABCDABCDABCDABCDABCDABCDABCDABCDABCDABCDABCDABCDABCDABCDABCDABCDABCDABCDABCDABCDABCDABCDABCDABCDABCDABCDABCDABCDABCDABCDABCDABCDABCDABCDABCDABCDABCDABCDABCDABCDABCDABCDABCDABCDABCDABCDABCDABCDABCDABCDABCDABCDABCDABCDABCDABCDABCDABCDABCDABCDABCDABCDABCDABCDABCDABCDABCDABCDABCDABCDABCDABCDABCDABCDABCDABCDABCDABCDABCDABCDABCDABCDABCDABCDABCDABCDABCDABCDABCDABCDABCDABCDABCDABCDABCDABCDABCDABCDABCDABCDABCDABCDABCDABCDABCDABCDABCDABCDABCDABCDABCDABCDABCDABCDABCDABCDABCDABCDABCDABCDABCDABCDABCDABCDABCDABCDABCDABCDABCDABCDABCDABCDABCDABCDABCDABCDABCDABCDABCDABCDABCDABCDABCDABCDABCDABCDABCDABCDABCDABCDABCDABCDABCDABCDABCDABCDABCDABCDABCDABCDABCDABCDABCDABCDABCDABCDABCDABCDABCDABCDABCDABCDABCDABCDABCDABCDABCDABCDABCDABCDABCDABCDABCDABCDABCDABCDABCDABCDABCDABCDABCDABCDABCDABCDABCDABCDABCDABCDABCDABCDABCDABCDABCDABCDABCDABCDABCDABCDABCDABCDABCDABCDABCDABCDABCDABCDABCDABCDABCDABCDABCDABCDABCDABCDABCDABCDABCDABCDABCDABCDABCDABCDABCDABCDABCDABCDABCDABCDABCDABCDABCDABCDABCDABCDABCDABCDABCDABCDABCDABCDABCDABCDABCDABCDABCDABCDABCDABCDABCDABCDABCDABCDABCDABCDABCDABCDABCDABCDABCDABCDABCDABCDABCDABCDABCDABCDABCDABCDABCDABCDABCDABCDABCDABCDABCDABCDABCDABCDABCDABCDABCDABCDABCDABCDABCDABCDABCDABCDABCDABCDABCDA"
     ]
    },
    {
     "ename": "KeyboardInterrupt",
     "evalue": "",
     "output_type": "error",
     "traceback": [
      "\u001b[0;31m---------------------------------------------------------------------------\u001b[0m",
      "\u001b[0;31mKeyboardInterrupt\u001b[0m                         Traceback (most recent call last)",
      "Input \u001b[0;32mIn [5]\u001b[0m, in \u001b[0;36m<cell line: 1>\u001b[0;34m()\u001b[0m\n\u001b[0;32m----> 1\u001b[0m \u001b[38;5;28;01mfor\u001b[39;00m el \u001b[38;5;129;01min\u001b[39;00m cycle(\u001b[38;5;124m'\u001b[39m\u001b[38;5;124mABCD\u001b[39m\u001b[38;5;124m'\u001b[39m): \u001b[38;5;28mprint\u001b[39m(el, end\u001b[38;5;241m=\u001b[39m\u001b[38;5;124m'\u001b[39m\u001b[38;5;124m'\u001b[39m)\n",
      "File \u001b[0;32m~/miniconda3/envs/py31/lib/python3.10/site-packages/ipykernel/iostream.py:531\u001b[0m, in \u001b[0;36mOutStream.write\u001b[0;34m(self, string)\u001b[0m\n\u001b[1;32m    529\u001b[0m is_child \u001b[38;5;241m=\u001b[39m (\u001b[38;5;129;01mnot\u001b[39;00m \u001b[38;5;28mself\u001b[39m\u001b[38;5;241m.\u001b[39m_is_master_process())\n\u001b[1;32m    530\u001b[0m \u001b[38;5;66;03m# only touch the buffer in the IO thread to avoid races\u001b[39;00m\n\u001b[0;32m--> 531\u001b[0m \u001b[38;5;28;43mself\u001b[39;49m\u001b[38;5;241;43m.\u001b[39;49m\u001b[43mpub_thread\u001b[49m\u001b[38;5;241;43m.\u001b[39;49m\u001b[43mschedule\u001b[49m\u001b[43m(\u001b[49m\u001b[38;5;28;43;01mlambda\u001b[39;49;00m\u001b[43m:\u001b[49m\u001b[43m \u001b[49m\u001b[38;5;28;43mself\u001b[39;49m\u001b[38;5;241;43m.\u001b[39;49m\u001b[43m_buffer\u001b[49m\u001b[38;5;241;43m.\u001b[39;49m\u001b[43mwrite\u001b[49m\u001b[43m(\u001b[49m\u001b[43mstring\u001b[49m\u001b[43m)\u001b[49m\u001b[43m)\u001b[49m\n\u001b[1;32m    532\u001b[0m \u001b[38;5;28;01mif\u001b[39;00m is_child:\n\u001b[1;32m    533\u001b[0m     \u001b[38;5;66;03m# mp.Pool cannot be trusted to flush promptly (or ever),\u001b[39;00m\n\u001b[1;32m    534\u001b[0m     \u001b[38;5;66;03m# and this helps.\u001b[39;00m\n\u001b[1;32m    535\u001b[0m     \u001b[38;5;28;01mif\u001b[39;00m \u001b[38;5;28mself\u001b[39m\u001b[38;5;241m.\u001b[39m_subprocess_flush_pending:\n",
      "File \u001b[0;32m~/miniconda3/envs/py31/lib/python3.10/site-packages/ipykernel/iostream.py:216\u001b[0m, in \u001b[0;36mIOPubThread.schedule\u001b[0;34m(self, f)\u001b[0m\n\u001b[1;32m    214\u001b[0m     \u001b[38;5;28mself\u001b[39m\u001b[38;5;241m.\u001b[39m_events\u001b[38;5;241m.\u001b[39mappend(f)\n\u001b[1;32m    215\u001b[0m     \u001b[38;5;66;03m# wake event thread (message content is ignored)\u001b[39;00m\n\u001b[0;32m--> 216\u001b[0m     \u001b[38;5;28;43mself\u001b[39;49m\u001b[38;5;241;43m.\u001b[39;49m\u001b[43m_event_pipe\u001b[49m\u001b[38;5;241;43m.\u001b[39;49m\u001b[43msend\u001b[49m\u001b[43m(\u001b[49m\u001b[38;5;124;43mb\u001b[39;49m\u001b[38;5;124;43m'\u001b[39;49m\u001b[38;5;124;43m'\u001b[39;49m\u001b[43m)\u001b[49m\n\u001b[1;32m    217\u001b[0m \u001b[38;5;28;01melse\u001b[39;00m:\n\u001b[1;32m    218\u001b[0m     f()\n",
      "File \u001b[0;32m~/miniconda3/envs/py31/lib/python3.10/site-packages/zmq/sugar/socket.py:547\u001b[0m, in \u001b[0;36mSocket.send\u001b[0;34m(self, data, flags, copy, track, routing_id, group)\u001b[0m\n\u001b[1;32m    540\u001b[0m         data \u001b[38;5;241m=\u001b[39m zmq\u001b[38;5;241m.\u001b[39mFrame(\n\u001b[1;32m    541\u001b[0m             data,\n\u001b[1;32m    542\u001b[0m             track\u001b[38;5;241m=\u001b[39mtrack,\n\u001b[1;32m    543\u001b[0m             copy\u001b[38;5;241m=\u001b[39mcopy \u001b[38;5;129;01mor\u001b[39;00m \u001b[38;5;28;01mNone\u001b[39;00m,\n\u001b[1;32m    544\u001b[0m             copy_threshold\u001b[38;5;241m=\u001b[39m\u001b[38;5;28mself\u001b[39m\u001b[38;5;241m.\u001b[39mcopy_threshold,\n\u001b[1;32m    545\u001b[0m         )\n\u001b[1;32m    546\u001b[0m     data\u001b[38;5;241m.\u001b[39mgroup \u001b[38;5;241m=\u001b[39m group\n\u001b[0;32m--> 547\u001b[0m \u001b[38;5;28;01mreturn\u001b[39;00m \u001b[38;5;28;43msuper\u001b[39;49m\u001b[43m(\u001b[49m\u001b[43mSocket\u001b[49m\u001b[43m,\u001b[49m\u001b[43m \u001b[49m\u001b[38;5;28;43mself\u001b[39;49m\u001b[43m)\u001b[49m\u001b[38;5;241;43m.\u001b[39;49m\u001b[43msend\u001b[49m\u001b[43m(\u001b[49m\u001b[43mdata\u001b[49m\u001b[43m,\u001b[49m\u001b[43m \u001b[49m\u001b[43mflags\u001b[49m\u001b[38;5;241;43m=\u001b[39;49m\u001b[43mflags\u001b[49m\u001b[43m,\u001b[49m\u001b[43m \u001b[49m\u001b[43mcopy\u001b[49m\u001b[38;5;241;43m=\u001b[39;49m\u001b[43mcopy\u001b[49m\u001b[43m,\u001b[49m\u001b[43m \u001b[49m\u001b[43mtrack\u001b[49m\u001b[38;5;241;43m=\u001b[39;49m\u001b[43mtrack\u001b[49m\u001b[43m)\u001b[49m\n",
      "File \u001b[0;32mzmq/backend/cython/socket.pyx:718\u001b[0m, in \u001b[0;36mzmq.backend.cython.socket.Socket.send\u001b[0;34m()\u001b[0m\n",
      "File \u001b[0;32mzmq/backend/cython/socket.pyx:765\u001b[0m, in \u001b[0;36mzmq.backend.cython.socket.Socket.send\u001b[0;34m()\u001b[0m\n",
      "File \u001b[0;32mzmq/backend/cython/socket.pyx:242\u001b[0m, in \u001b[0;36mzmq.backend.cython.socket._send_copy\u001b[0;34m()\u001b[0m\n",
      "File \u001b[0;32m~/miniconda3/envs/py31/lib/python3.10/site-packages/zmq/backend/cython/checkrc.pxd:13\u001b[0m, in \u001b[0;36mzmq.backend.cython.checkrc._check_rc\u001b[0;34m()\u001b[0m\n",
      "\u001b[0;31mKeyboardInterrupt\u001b[0m: "
     ]
    }
   ],
   "source": [
    "for el in cycle('ABCD'): print(el, end='') # Loop forever"
   ]
  },
  {
   "cell_type": "markdown",
   "id": "2a7b84b1-4a39-4bc6-992f-9454e148b61d",
   "metadata": {},
   "source": [
    "### Count"
   ]
  },
  {
   "cell_type": "code",
   "execution_count": 1,
   "id": "6be15f98-8745-4070-8bd9-66fdd5068bf4",
   "metadata": {},
   "outputs": [
    {
     "name": "stdout",
     "output_type": "stream",
     "text": [
      "Even list: [0, 2, 4, 6, 8]\n"
     ]
    }
   ],
   "source": [
    "from itertools import count\n",
    "  \n",
    "# creates a count iterator object\n",
    "iterator =(count(start = 0, step = 2))\n",
    "  \n",
    "# prints a odd list of integers\n",
    "print(\"Even list:\", \n",
    "      list(next(iterator) for _ in range(5)))"
   ]
  },
  {
   "cell_type": "code",
   "execution_count": 2,
   "id": "526f0029-f9fc-4709-8a51-2dbd97909000",
   "metadata": {},
   "outputs": [
    {
     "name": "stdout",
     "output_type": "stream",
     "text": [
      "Odd list: [1, 3, 5, 7, 9]\n"
     ]
    }
   ],
   "source": [
    "# creates a count iterator object\n",
    "iterator = (count(start = 1, step = 2))\n",
    "  \n",
    "# prints a odd list of integers\n",
    "print(\"Odd list:\", \n",
    "      list(next(iterator) for _ in range(5)))"
   ]
  },
  {
   "cell_type": "markdown",
   "id": "65575053-0885-401a-8968-3809296c7146",
   "metadata": {},
   "source": [
    "### Repeat"
   ]
  },
  {
   "cell_type": "code",
   "execution_count": 6,
   "id": "741922f7-d8ba-430c-9703-fd3adde15efe",
   "metadata": {},
   "outputs": [
    {
     "name": "stdout",
     "output_type": "stream",
     "text": [
      "Printing the numbers repeatedly : \n",
      "[25, 25, 25, 25]\n",
      "['A', 'A', 'A', 'A']\n",
      "[25, 25, 25, 25]\n",
      "AAAA\n"
     ]
    }
   ],
   "source": [
    "import itertools   \n",
    "        \n",
    "# using repeat() to repeatedly print number   \n",
    "print (\"Printing the numbers repeatedly : \")\n",
    "print (list(itertools.repeat(25, 4)))\n",
    "print (list(itertools.repeat('A', 4)))\n",
    "print([25]*4) # The same\n",
    "print('A'*4) # Not the same"
   ]
  },
  {
   "cell_type": "markdown",
   "id": "2e28d082-7386-468e-8fb7-d3a821b57f3b",
   "metadata": {},
   "source": [
    "### accumulate"
   ]
  },
  {
   "cell_type": "code",
   "execution_count": 7,
   "id": "3443affd-ead8-48ce-a355-cf09dac62fe6",
   "metadata": {},
   "outputs": [
    {
     "data": {
      "text/plain": [
       "[0, 1, 3, 6, 10, 15, 21, 28, 36, 45]"
      ]
     },
     "execution_count": 7,
     "metadata": {},
     "output_type": "execute_result"
    }
   ],
   "source": [
    "from itertools import accumulate\n",
    "list(accumulate(range(10)))"
   ]
  },
  {
   "cell_type": "markdown",
   "id": "8eeb3a79-511a-4092-9700-a0b2c955f5fc",
   "metadata": {},
   "source": [
    "### groupby"
   ]
  },
  {
   "cell_type": "code",
   "execution_count": 8,
   "id": "bfdff08a-7ef3-4a42-b8c8-caf5f3c00ac0",
   "metadata": {},
   "outputs": [
    {
     "name": "stdout",
     "output_type": "stream",
     "text": [
      "A 4\n",
      "B 3\n",
      "C 2\n",
      "D 1\n",
      "A 2\n",
      "B 3\n"
     ]
    }
   ],
   "source": [
    "from itertools import groupby\n",
    "data = 'AAAABBBCCDAABBB'\n",
    "for k, v in groupby(data):\n",
    "    print(k, len(list(v)))"
   ]
  },
  {
   "cell_type": "code",
   "execution_count": 15,
   "id": "767765c6-283c-4597-9db9-211d6dc35f85",
   "metadata": {},
   "outputs": [],
   "source": [
    "data_sorted = sorted(data)"
   ]
  },
  {
   "cell_type": "code",
   "execution_count": 16,
   "id": "a3fec17f-71c7-461b-8d40-ba80beac3446",
   "metadata": {},
   "outputs": [
    {
     "name": "stdout",
     "output_type": "stream",
     "text": [
      "A 6\n",
      "B 6\n",
      "C 2\n",
      "D 1\n"
     ]
    }
   ],
   "source": [
    "for k, v in groupby(data_sorted):\n",
    "    print(k, len(list(v)))"
   ]
  },
  {
   "cell_type": "markdown",
   "id": "d4fc1476-a8c3-43ab-8701-f6a3d1726f6c",
   "metadata": {},
   "source": [
    "### pairwise"
   ]
  },
  {
   "cell_type": "code",
   "execution_count": 17,
   "id": "0cbf667d-989a-49cf-b3dc-d84511d512d8",
   "metadata": {},
   "outputs": [
    {
     "data": {
      "text/plain": [
       "[('A', 'B'), ('B', 'C'), ('C', 'D'), ('D', 'E'), ('E', 'F'), ('F', 'G')]"
      ]
     },
     "execution_count": 17,
     "metadata": {},
     "output_type": "execute_result"
    }
   ],
   "source": [
    "from itertools import pairwise\n",
    "list(pairwise('ABCDEFG'))"
   ]
  },
  {
   "cell_type": "markdown",
   "id": "c560e1fb-e476-486e-a052-9a3ba3e027b8",
   "metadata": {},
   "source": [
    "### starmap"
   ]
  },
  {
   "cell_type": "code",
   "execution_count": 18,
   "id": "47707131-ccd2-4275-8e33-d8de717f0e07",
   "metadata": {},
   "outputs": [
    {
     "data": {
      "text/plain": [
       "[10, 35, 60]"
      ]
     },
     "execution_count": 18,
     "metadata": {},
     "output_type": "execute_result"
    }
   ],
   "source": [
    "from itertools import starmap\n",
    "v = starmap(sum, [[range(5)], [range(5, 10)], [range(10, 15)]])\n",
    "list(v)"
   ]
  },
  {
   "cell_type": "code",
   "execution_count": 20,
   "id": "7cc19b61-659c-4a6d-968b-8e371b2a52f0",
   "metadata": {},
   "outputs": [
    {
     "data": {
      "text/plain": [
       "[32, 9, 1000]"
      ]
     },
     "execution_count": 20,
     "metadata": {},
     "output_type": "execute_result"
    }
   ],
   "source": [
    "v = starmap(pow, [(2,5), (3,2), (10,3)])\n",
    "list(v)"
   ]
  },
  {
   "cell_type": "code",
   "execution_count": 24,
   "id": "c1e5791c-b7a6-4a05-bbd6-0ff103c19830",
   "metadata": {},
   "outputs": [
    {
     "data": {
      "text/plain": [
       "[3, 7, 11]"
      ]
     },
     "execution_count": 24,
     "metadata": {},
     "output_type": "execute_result"
    }
   ],
   "source": [
    "v = starmap(sum, [[(1,2)], [(3,4)], [(5,6)]])\n",
    "list(v)"
   ]
  },
  {
   "cell_type": "markdown",
   "id": "aaf2dda6-e280-47e0-9082-04154703db57",
   "metadata": {},
   "source": [
    "### zip_longest"
   ]
  },
  {
   "cell_type": "code",
   "execution_count": 25,
   "id": "80746119-77eb-4398-b76a-1d5b07df91e0",
   "metadata": {},
   "outputs": [
    {
     "data": {
      "text/plain": [
       "[('A', 'x'), ('B', 'y'), ('C', '-'), ('D', '-')]"
      ]
     },
     "execution_count": 25,
     "metadata": {},
     "output_type": "execute_result"
    }
   ],
   "source": [
    "from itertools import zip_longest\n",
    "list(zip_longest('ABCD', 'xy', fillvalue='-')) "
   ]
  },
  {
   "cell_type": "markdown",
   "id": "44c672e3-9231-455c-9e8f-198c26565b30",
   "metadata": {},
   "source": [
    "## product"
   ]
  },
  {
   "cell_type": "code",
   "execution_count": 26,
   "id": "bf8d9dcd-5e3a-49eb-94b2-3d05237f239a",
   "metadata": {},
   "outputs": [
    {
     "name": "stdout",
     "output_type": "stream",
     "text": [
      "0 10\n",
      "0 11\n",
      "1 10\n",
      "1 11\n"
     ]
    }
   ],
   "source": [
    "from itertools import product\n",
    "for i,j in product([0,1], [10,11]):\n",
    "    print(i,j)"
   ]
  },
  {
   "cell_type": "markdown",
   "id": "af0154b3-b196-4d72-97f3-dc231c7606c4",
   "metadata": {},
   "source": [
    "## Decorators\n",
    "\n",
    "Ref: <https://realpython.com/primer-on-python-decorators/>"
   ]
  },
  {
   "cell_type": "code",
   "execution_count": 29,
   "id": "e45a6146-5c08-4267-ae83-27d8df155fec",
   "metadata": {},
   "outputs": [
    {
     "name": "stdout",
     "output_type": "stream",
     "text": [
      "Something is happening before the function is called.\n",
      "Whee!\n",
      "Something is happening after the function is called.\n"
     ]
    }
   ],
   "source": [
    "def my_decorator(func):\n",
    "    def wrapper():\n",
    "        print(\"Something is happening before the function is called.\")\n",
    "        func()\n",
    "        print(\"Something is happening after the function is called.\")\n",
    "    return wrapper\n",
    "\n",
    "@my_decorator\n",
    "def say_whee():\n",
    "    print(\"Whee!\")\n",
    "    \n",
    "say_whee()"
   ]
  },
  {
   "cell_type": "code",
   "execution_count": 42,
   "id": "362fe439-b93b-4b90-b0a7-5436a5b72617",
   "metadata": {},
   "outputs": [
    {
     "name": "stdout",
     "output_type": "stream",
     "text": [
      "Hello World\n",
      "Hello World\n",
      "None\n",
      "Creating greeting\n",
      "Creating greeting\n",
      "Hi Adam\n"
     ]
    }
   ],
   "source": [
    "import functools\n",
    "\n",
    "def do_twice(func):\n",
    "    @functools.wraps(func)\n",
    "    def wrapper_do_twice(*args, **kwargs):\n",
    "        func(*args, **kwargs)\n",
    "        return func(*args, **kwargs)\n",
    "    return wrapper_do_twice\n",
    "\n",
    "@do_twice\n",
    "def greet(name):\n",
    "    print(f\"Hello {name}\")\n",
    "\n",
    "@do_twice\n",
    "def return_greeting(name):\n",
    "    print(\"Creating greeting\")\n",
    "    return f\"Hi {name}\"\n",
    "    \n",
    "print(greet(\"World\"))\n",
    "print(return_greeting(\"Adam\"))"
   ]
  },
  {
   "cell_type": "code",
   "execution_count": 39,
   "id": "6292dac1-913e-44bd-80bb-1e3f579fb3ff",
   "metadata": {},
   "outputs": [
    {
     "data": {
      "text/plain": [
       "<function __main__.do_twice.<locals>.wrapper_do_twice(*args, **kwargs)>"
      ]
     },
     "execution_count": 39,
     "metadata": {},
     "output_type": "execute_result"
    }
   ],
   "source": [
    "return_greeting"
   ]
  },
  {
   "cell_type": "code",
   "execution_count": 40,
   "id": "dca62c03-8d30-40a4-b0be-46b2eee9142b",
   "metadata": {},
   "outputs": [
    {
     "data": {
      "text/plain": [
       "'wrapper_do_twice'"
      ]
     },
     "execution_count": 40,
     "metadata": {},
     "output_type": "execute_result"
    }
   ],
   "source": [
    "return_greeting.__name__ # without functools decorator"
   ]
  },
  {
   "cell_type": "code",
   "execution_count": 41,
   "id": "15135fe2-9d7c-4e8a-9528-431256742d1e",
   "metadata": {},
   "outputs": [
    {
     "name": "stdout",
     "output_type": "stream",
     "text": [
      "Help on function wrapper_do_twice in module __main__:\n",
      "\n",
      "wrapper_do_twice(*args, **kwargs)\n",
      "\n"
     ]
    }
   ],
   "source": [
    "help(return_greeting)"
   ]
  },
  {
   "cell_type": "code",
   "execution_count": 43,
   "id": "e953a015-3c0f-4b77-a93a-c87225580f45",
   "metadata": {},
   "outputs": [
    {
     "name": "stdout",
     "output_type": "stream",
     "text": [
      "Help on function return_greeting in module __main__:\n",
      "\n",
      "return_greeting(name)\n",
      "\n"
     ]
    }
   ],
   "source": [
    "help(return_greeting) # with functools decorator"
   ]
  },
  {
   "cell_type": "code",
   "execution_count": 44,
   "id": "95a3a1f3-09fd-4896-ba1b-81c14ec2e253",
   "metadata": {},
   "outputs": [],
   "source": [
    "import functools\n",
    "import time\n",
    "\n",
    "def timer(func):\n",
    "    \"\"\"Print the runtime of the decorated function\"\"\"\n",
    "    @functools.wraps(func)\n",
    "    def wrapper_timer(*args, **kwargs):\n",
    "        start_time = time.perf_counter()    # 1\n",
    "        value = func(*args, **kwargs)\n",
    "        end_time = time.perf_counter()      # 2\n",
    "        run_time = end_time - start_time    # 3\n",
    "        print(f\"Finished {func.__name__!r} in {run_time:.4f} secs\")\n",
    "        return value\n",
    "    return wrapper_timer\n",
    "\n",
    "@timer\n",
    "def waste_some_time(num_times):\n",
    "    for _ in range(num_times):\n",
    "        sum([i**2 for i in range(10000)])"
   ]
  },
  {
   "cell_type": "code",
   "execution_count": 46,
   "id": "90b96cdb-c9d0-4a6d-9e75-f5a79d73c434",
   "metadata": {},
   "outputs": [
    {
     "name": "stdout",
     "output_type": "stream",
     "text": [
      "Finished 'waste_some_time' in 0.1857 secs\n"
     ]
    }
   ],
   "source": [
    "waste_some_time(99)"
   ]
  },
  {
   "cell_type": "code",
   "execution_count": 47,
   "id": "28438587-e911-4bee-8536-3d34d4e22772",
   "metadata": {},
   "outputs": [],
   "source": [
    "import functools\n",
    "\n",
    "def debug(func):\n",
    "    \"\"\"Print the function signature and return value\"\"\"\n",
    "    @functools.wraps(func)\n",
    "    def wrapper_debug(*args, **kwargs):\n",
    "        args_repr = [repr(a) for a in args]                      # 1\n",
    "        kwargs_repr = [f\"{k}={v!r}\" for k, v in kwargs.items()]  # 2\n",
    "        signature = \", \".join(args_repr + kwargs_repr)           # 3\n",
    "        print(f\"Calling {func.__name__}({signature})\")\n",
    "        value = func(*args, **kwargs)\n",
    "        print(f\"{func.__name__!r} returned {value!r}\")           # 4\n",
    "        return value\n",
    "    return wrapper_debug"
   ]
  },
  {
   "cell_type": "code",
   "execution_count": 48,
   "id": "e8752b4d-52c7-4806-8abe-674a7afb7e04",
   "metadata": {},
   "outputs": [],
   "source": [
    "@debug\n",
    "def make_greeting(name, age=None):\n",
    "    if age is None:\n",
    "        return f\"Howdy {name}!\"\n",
    "    else:\n",
    "        return f\"Whoa {name}! {age} already, you are growing up!\""
   ]
  },
  {
   "cell_type": "code",
   "execution_count": 49,
   "id": "694e4657-f45d-43ca-9164-5730e8ec0fa7",
   "metadata": {},
   "outputs": [
    {
     "name": "stdout",
     "output_type": "stream",
     "text": [
      "Calling make_greeting('Benjamin')\n",
      "'make_greeting' returned 'Howdy Benjamin!'\n"
     ]
    },
    {
     "data": {
      "text/plain": [
       "'Howdy Benjamin!'"
      ]
     },
     "execution_count": 49,
     "metadata": {},
     "output_type": "execute_result"
    }
   ],
   "source": [
    "make_greeting(\"Benjamin\")"
   ]
  },
  {
   "cell_type": "code",
   "execution_count": 50,
   "id": "a7f708e9-a918-4fc6-bce8-330411e46315",
   "metadata": {},
   "outputs": [
    {
     "name": "stdout",
     "output_type": "stream",
     "text": [
      "Calling make_greeting('Richard', age=112)\n",
      "'make_greeting' returned 'Whoa Richard! 112 already, you are growing up!'\n"
     ]
    },
    {
     "data": {
      "text/plain": [
       "'Whoa Richard! 112 already, you are growing up!'"
      ]
     },
     "execution_count": 50,
     "metadata": {},
     "output_type": "execute_result"
    }
   ],
   "source": [
    "make_greeting(\"Richard\", age=112)"
   ]
  },
  {
   "cell_type": "code",
   "execution_count": 51,
   "id": "1f61f40e-dc48-403b-9f16-ae7e4c879eb6",
   "metadata": {},
   "outputs": [
    {
     "name": "stdout",
     "output_type": "stream",
     "text": [
      "Calling make_greeting(name='Dorrisile', age=116)\n",
      "'make_greeting' returned 'Whoa Dorrisile! 116 already, you are growing up!'\n"
     ]
    },
    {
     "data": {
      "text/plain": [
       "'Whoa Dorrisile! 116 already, you are growing up!'"
      ]
     },
     "execution_count": 51,
     "metadata": {},
     "output_type": "execute_result"
    }
   ],
   "source": [
    "make_greeting(name=\"Dorrisile\", age=116)"
   ]
  },
  {
   "cell_type": "code",
   "execution_count": 53,
   "id": "404cc7c3-4055-4bd0-9020-7b3db853328b",
   "metadata": {},
   "outputs": [],
   "source": [
    "import math\n",
    "\n",
    "# Apply a decorator to a standard library function\n",
    "math.factorial = debug(math.factorial)\n",
    "\n",
    "def approximate_e(terms=18):\n",
    "    return sum(1 / math.factorial(n) for n in range(terms))"
   ]
  },
  {
   "cell_type": "code",
   "execution_count": 54,
   "id": "eda3c568-f421-49a8-95d7-1a93949a60f2",
   "metadata": {},
   "outputs": [
    {
     "name": "stdout",
     "output_type": "stream",
     "text": [
      "Calling factorial(0)\n",
      "'factorial' returned 1\n",
      "Calling factorial(1)\n",
      "'factorial' returned 1\n",
      "Calling factorial(2)\n",
      "'factorial' returned 2\n",
      "Calling factorial(3)\n",
      "'factorial' returned 6\n",
      "Calling factorial(4)\n",
      "'factorial' returned 24\n"
     ]
    },
    {
     "data": {
      "text/plain": [
       "2.708333333333333"
      ]
     },
     "execution_count": 54,
     "metadata": {},
     "output_type": "execute_result"
    }
   ],
   "source": [
    "approximate_e(5)"
   ]
  },
  {
   "cell_type": "code",
   "execution_count": 55,
   "id": "ec1638cb-5c67-4b20-9fba-c5046caad365",
   "metadata": {},
   "outputs": [],
   "source": [
    "import functools\n",
    "import time\n",
    "\n",
    "def slow_down(func):\n",
    "    \"\"\"Sleep 1 second before calling the function\"\"\"\n",
    "    @functools.wraps(func)\n",
    "    def wrapper_slow_down(*args, **kwargs):\n",
    "        time.sleep(1)\n",
    "        return func(*args, **kwargs)\n",
    "    return wrapper_slow_down\n",
    "\n",
    "@slow_down\n",
    "def countdown(from_number):\n",
    "    if from_number < 1:\n",
    "        print(\"Liftoff!\")\n",
    "    else:\n",
    "        print(from_number)\n",
    "        countdown(from_number - 1)"
   ]
  },
  {
   "cell_type": "code",
   "execution_count": 56,
   "id": "f769f22d-9dc2-4e4d-880e-6b2dfc854f65",
   "metadata": {},
   "outputs": [
    {
     "name": "stdout",
     "output_type": "stream",
     "text": [
      "3\n",
      "2\n",
      "1\n",
      "Liftoff!\n"
     ]
    }
   ],
   "source": [
    "countdown(3)"
   ]
  },
  {
   "cell_type": "code",
   "execution_count": 57,
   "id": "50308d1c-5301-4504-bf8e-169a19f2eef9",
   "metadata": {},
   "outputs": [],
   "source": [
    "import random\n",
    "PLUGINS = dict()\n",
    "\n",
    "def register(func):\n",
    "    \"\"\"Register a function as a plug-in\"\"\"\n",
    "    PLUGINS[func.__name__] = func\n",
    "    return func\n",
    "\n",
    "@register\n",
    "def say_hello(name):\n",
    "    return f\"Hello {name}\"\n",
    "\n",
    "@register\n",
    "def be_awesome(name):\n",
    "    return f\"Yo {name}, together we are the awesomest!\"\n",
    "\n",
    "def randomly_greet(name):\n",
    "    greeter, greeter_func = random.choice(list(PLUGINS.items()))\n",
    "    print(f\"Using {greeter!r}\")\n",
    "    return greeter_func(name)"
   ]
  },
  {
   "cell_type": "code",
   "execution_count": 58,
   "id": "6c335ae9-f0d9-4366-9aff-3a66375e812b",
   "metadata": {},
   "outputs": [
    {
     "data": {
      "text/plain": [
       "{'say_hello': <function __main__.say_hello(name)>,\n",
       " 'be_awesome': <function __main__.be_awesome(name)>}"
      ]
     },
     "execution_count": 58,
     "metadata": {},
     "output_type": "execute_result"
    }
   ],
   "source": [
    "PLUGINS"
   ]
  },
  {
   "cell_type": "code",
   "execution_count": 60,
   "id": "98646dc3-856f-4c61-b8e9-6631e9f05730",
   "metadata": {},
   "outputs": [
    {
     "name": "stdout",
     "output_type": "stream",
     "text": [
      "Using 'say_hello'\n"
     ]
    },
    {
     "data": {
      "text/plain": [
       "'Hello Alice'"
      ]
     },
     "execution_count": 60,
     "metadata": {},
     "output_type": "execute_result"
    }
   ],
   "source": [
    "randomly_greet(\"Alice\")"
   ]
  },
  {
   "cell_type": "code",
   "execution_count": 62,
   "id": "2a46e59b-fa07-4801-9e25-64c4ba8f3d38",
   "metadata": {},
   "outputs": [],
   "source": [
    "class TimeWaster:\n",
    "    @debug\n",
    "    def __init__(self, max_num):\n",
    "        self.max_num = max_num\n",
    "\n",
    "    @timer\n",
    "    def waste_time(self, num_times):\n",
    "        for _ in range(num_times):\n",
    "            sum([i**2 for i in range(self.max_num)])"
   ]
  },
  {
   "cell_type": "code",
   "execution_count": 63,
   "id": "da95700a-639e-4100-bcf3-92a3388354e8",
   "metadata": {},
   "outputs": [
    {
     "name": "stdout",
     "output_type": "stream",
     "text": [
      "Calling __init__(<__main__.TimeWaster object at 0x7fce14f8f7c0>, 1000)\n",
      "'__init__' returned None\n"
     ]
    }
   ],
   "source": [
    "tw = TimeWaster(1000)"
   ]
  },
  {
   "cell_type": "code",
   "execution_count": 64,
   "id": "038ce115-5f57-4506-be27-ff087a40b3b2",
   "metadata": {},
   "outputs": [
    {
     "name": "stdout",
     "output_type": "stream",
     "text": [
      "Finished 'waste_time' in 0.1945 secs\n"
     ]
    }
   ],
   "source": [
    "tw.waste_time(999)"
   ]
  },
  {
   "cell_type": "code",
   "execution_count": 65,
   "id": "34fbf93d-4b35-439e-bb02-49d1b068252d",
   "metadata": {},
   "outputs": [],
   "source": [
    "from dataclasses import dataclass\n",
    "\n",
    "@dataclass\n",
    "class PlayingCard:\n",
    "    rank: str\n",
    "    suit: str"
   ]
  },
  {
   "cell_type": "code",
   "execution_count": 67,
   "id": "e6d8916c-df5e-4de4-841a-195c0fd5408c",
   "metadata": {},
   "outputs": [],
   "source": [
    "pc = PlayingCard(rank='A', suit='DC')"
   ]
  },
  {
   "cell_type": "code",
   "execution_count": 68,
   "id": "ded5fc3e-97e6-4b3f-b2dc-ce6bd293fd4c",
   "metadata": {},
   "outputs": [
    {
     "data": {
      "text/plain": [
       "PlayingCard(rank='A', suit='DC')"
      ]
     },
     "execution_count": 68,
     "metadata": {},
     "output_type": "execute_result"
    }
   ],
   "source": [
    "pc"
   ]
  },
  {
   "cell_type": "code",
   "execution_count": 70,
   "id": "866aa303-8e0c-448b-8a31-fab612bd1072",
   "metadata": {},
   "outputs": [
    {
     "data": {
      "text/plain": [
       "'DC'"
      ]
     },
     "execution_count": 70,
     "metadata": {},
     "output_type": "execute_result"
    }
   ],
   "source": [
    "pc.suit"
   ]
  },
  {
   "cell_type": "code",
   "execution_count": 71,
   "id": "a0047d03-e818-4ead-82ee-b4653ccc8a60",
   "metadata": {},
   "outputs": [],
   "source": [
    "#from decorators import debug, do_twice\n",
    "\n",
    "@debug\n",
    "@do_twice\n",
    "def greet(name):\n",
    "    print(f\"Hello {name}\")"
   ]
  },
  {
   "cell_type": "code",
   "execution_count": 72,
   "id": "a90c78d9-e557-4fa9-9962-81ad6e161130",
   "metadata": {},
   "outputs": [
    {
     "name": "stdout",
     "output_type": "stream",
     "text": [
      "Calling greet('Eva')\n",
      "Hello Eva\n",
      "Hello Eva\n",
      "'greet' returned None\n"
     ]
    }
   ],
   "source": [
    "greet(\"Eva\")"
   ]
  },
  {
   "cell_type": "code",
   "execution_count": 73,
   "id": "2ce41858-b1f5-4212-9a64-99ee14026a71",
   "metadata": {},
   "outputs": [],
   "source": [
    "@do_twice\n",
    "@debug\n",
    "def greet(name):\n",
    "    print(f\"Hello {name}\")"
   ]
  },
  {
   "cell_type": "code",
   "execution_count": 74,
   "id": "598d3174-5f1f-4d3c-a729-86ef6478bcc2",
   "metadata": {},
   "outputs": [
    {
     "name": "stdout",
     "output_type": "stream",
     "text": [
      "Calling greet('Eva')\n",
      "Hello Eva\n",
      "'greet' returned None\n",
      "Calling greet('Eva')\n",
      "Hello Eva\n",
      "'greet' returned None\n"
     ]
    }
   ],
   "source": [
    "greet(\"Eva\")"
   ]
  },
  {
   "cell_type": "code",
   "execution_count": 76,
   "id": "8d169135-89d8-41aa-82df-d3d686ac3889",
   "metadata": {},
   "outputs": [],
   "source": [
    "def repeat(num_times):\n",
    "    def decorator_repeat(func):\n",
    "        @functools.wraps(func)\n",
    "        def wrapper_repeat(*args, **kwargs):\n",
    "            for _ in range(num_times):\n",
    "                value = func(*args, **kwargs)\n",
    "            return value\n",
    "        return wrapper_repeat\n",
    "    return decorator_repeat\n",
    "\n",
    "def wrapper_repeat(*args, **kwargs):\n",
    "    for _ in range(num_times):\n",
    "        value = func(*args, **kwargs)\n",
    "    return value\n",
    "\n",
    "@repeat(num_times=4)\n",
    "def greet(name):\n",
    "    print(f\"Hello {name}\")"
   ]
  },
  {
   "cell_type": "code",
   "execution_count": 77,
   "id": "d706684e-1188-4c26-b48e-9d50c96bf761",
   "metadata": {},
   "outputs": [
    {
     "name": "stdout",
     "output_type": "stream",
     "text": [
      "Hello World\n",
      "Hello World\n",
      "Hello World\n",
      "Hello World\n"
     ]
    }
   ],
   "source": [
    "greet(\"World\")"
   ]
  },
  {
   "cell_type": "code",
   "execution_count": 78,
   "id": "edf1db3b-b657-4187-ba27-48353c3a88c5",
   "metadata": {},
   "outputs": [],
   "source": [
    "import functools\n",
    "\n",
    "def count_calls(func):\n",
    "    @functools.wraps(func)\n",
    "    def wrapper_count_calls(*args, **kwargs):\n",
    "        wrapper_count_calls.num_calls += 1\n",
    "        print(f\"Call {wrapper_count_calls.num_calls} of {func.__name__!r}\")\n",
    "        return func(*args, **kwargs)\n",
    "    wrapper_count_calls.num_calls = 0\n",
    "    return wrapper_count_calls\n",
    "\n",
    "@count_calls\n",
    "def say_whee():\n",
    "    print(\"Whee!\")"
   ]
  },
  {
   "cell_type": "code",
   "execution_count": 79,
   "id": "83746d30-2450-451b-8eaa-2c86790bd919",
   "metadata": {},
   "outputs": [
    {
     "name": "stdout",
     "output_type": "stream",
     "text": [
      "Call 1 of 'say_whee'\n",
      "Whee!\n"
     ]
    }
   ],
   "source": [
    "say_whee()"
   ]
  },
  {
   "cell_type": "code",
   "execution_count": 80,
   "id": "11ed3cd2-2fb5-42df-9620-cbf361695cca",
   "metadata": {},
   "outputs": [
    {
     "name": "stdout",
     "output_type": "stream",
     "text": [
      "Call 2 of 'say_whee'\n",
      "Whee!\n"
     ]
    }
   ],
   "source": [
    "say_whee()"
   ]
  },
  {
   "cell_type": "code",
   "execution_count": 81,
   "id": "f589a340-e4d7-451b-80ec-5b78a5f1a3c8",
   "metadata": {},
   "outputs": [],
   "source": [
    "import functools\n",
    "\n",
    "class CountCalls:\n",
    "    def __init__(self, func):\n",
    "        functools.update_wrapper(self, func)\n",
    "        self.func = func\n",
    "        self.num_calls = 0\n",
    "\n",
    "    def __call__(self, *args, **kwargs):\n",
    "        self.num_calls += 1\n",
    "        print(f\"Call {self.num_calls} of {self.func.__name__!r}\")\n",
    "        return self.func(*args, **kwargs)\n",
    "\n",
    "@CountCalls\n",
    "def say_whee():\n",
    "    print(\"Whee!\")"
   ]
  },
  {
   "cell_type": "code",
   "execution_count": 82,
   "id": "7611b536-a760-444e-85d2-34515be4658b",
   "metadata": {},
   "outputs": [
    {
     "name": "stdout",
     "output_type": "stream",
     "text": [
      "Call 1 of 'say_whee'\n",
      "Whee!\n"
     ]
    }
   ],
   "source": [
    "say_whee()"
   ]
  },
  {
   "cell_type": "code",
   "execution_count": 83,
   "id": "1633d176-c801-4ae1-aa12-5e104b218cf8",
   "metadata": {},
   "outputs": [
    {
     "name": "stdout",
     "output_type": "stream",
     "text": [
      "Call 2 of 'say_whee'\n",
      "Whee!\n"
     ]
    }
   ],
   "source": [
    "say_whee()"
   ]
  },
  {
   "cell_type": "code",
   "execution_count": 84,
   "id": "8162ec4d-8376-4e70-bd82-a2ab80e4ad32",
   "metadata": {},
   "outputs": [],
   "source": [
    "import functools\n",
    "import time\n",
    "\n",
    "def slow_down(_func=None, *, rate=1):\n",
    "    \"\"\"Sleep given amount of seconds before calling the function\"\"\"\n",
    "    def decorator_slow_down(func):\n",
    "        @functools.wraps(func)\n",
    "        def wrapper_slow_down(*args, **kwargs):\n",
    "            time.sleep(rate)\n",
    "            return func(*args, **kwargs)\n",
    "        return wrapper_slow_down\n",
    "\n",
    "    if _func is None:\n",
    "        return decorator_slow_down\n",
    "    else:\n",
    "        return decorator_slow_down(_func)"
   ]
  },
  {
   "cell_type": "code",
   "execution_count": 85,
   "id": "cfa21a82-a82b-4a3f-85c7-1f5167bf2a7b",
   "metadata": {},
   "outputs": [],
   "source": [
    "@slow_down(rate=2)\n",
    "def countdown(from_number):\n",
    "    if from_number < 1:\n",
    "        print(\"Liftoff!\")\n",
    "    else:\n",
    "        print(from_number)\n",
    "        countdown(from_number - 1)"
   ]
  },
  {
   "cell_type": "code",
   "execution_count": 86,
   "id": "7a2e613f-be3c-4f71-b24d-f8346962546b",
   "metadata": {},
   "outputs": [
    {
     "name": "stdout",
     "output_type": "stream",
     "text": [
      "3\n",
      "2\n",
      "1\n",
      "Liftoff!\n"
     ]
    }
   ],
   "source": [
    "countdown(3)"
   ]
  },
  {
   "cell_type": "code",
   "execution_count": 87,
   "id": "0f699eb8-05b2-4944-9228-217b66196b97",
   "metadata": {},
   "outputs": [],
   "source": [
    "import functools\n",
    "\n",
    "def singleton(cls):\n",
    "    \"\"\"Make a class a Singleton class (only one instance)\"\"\"\n",
    "    @functools.wraps(cls)\n",
    "    def wrapper_singleton(*args, **kwargs):\n",
    "        if not wrapper_singleton.instance:\n",
    "            wrapper_singleton.instance = cls(*args, **kwargs)\n",
    "        return wrapper_singleton.instance\n",
    "    wrapper_singleton.instance = None\n",
    "    return wrapper_singleton\n",
    "\n",
    "@singleton\n",
    "class TheOne:\n",
    "    pass"
   ]
  },
  {
   "cell_type": "code",
   "execution_count": 88,
   "id": "e843d74f-7440-4140-b4e1-c6e8b0a44b10",
   "metadata": {},
   "outputs": [],
   "source": [
    "first_one = TheOne()\n",
    "another_one = TheOne()"
   ]
  },
  {
   "cell_type": "code",
   "execution_count": 89,
   "id": "0af462c5-3cd3-4869-a79f-b0c202695d4c",
   "metadata": {},
   "outputs": [
    {
     "data": {
      "text/plain": [
       "140523399793296"
      ]
     },
     "execution_count": 89,
     "metadata": {},
     "output_type": "execute_result"
    }
   ],
   "source": [
    "id(first_one)"
   ]
  },
  {
   "cell_type": "code",
   "execution_count": 90,
   "id": "5267fb37-a647-4ce7-a788-a8cd83fdf866",
   "metadata": {},
   "outputs": [
    {
     "data": {
      "text/plain": [
       "140523399793296"
      ]
     },
     "execution_count": 90,
     "metadata": {},
     "output_type": "execute_result"
    }
   ],
   "source": [
    "id(another_one)"
   ]
  },
  {
   "cell_type": "code",
   "execution_count": 91,
   "id": "519b81e8-23d4-4db0-8ac4-ba9627dbaddb",
   "metadata": {},
   "outputs": [
    {
     "data": {
      "text/plain": [
       "True"
      ]
     },
     "execution_count": 91,
     "metadata": {},
     "output_type": "execute_result"
    }
   ],
   "source": [
    "first_one is another_one"
   ]
  },
  {
   "cell_type": "code",
   "execution_count": 93,
   "id": "e4a55384-0f9c-4cd3-8097-923a58d25ff4",
   "metadata": {},
   "outputs": [],
   "source": [
    "#from decorators import count_calls\n",
    "\n",
    "@count_calls\n",
    "def fibonacci(num):\n",
    "    if num < 2:\n",
    "        return num\n",
    "    return fibonacci(num - 1) + fibonacci(num - 2)"
   ]
  },
  {
   "cell_type": "code",
   "execution_count": 94,
   "id": "1819271e-7b93-4a2e-bfe4-2e624fd5ca15",
   "metadata": {},
   "outputs": [
    {
     "name": "stdout",
     "output_type": "stream",
     "text": [
      "Call 1 of 'fibonacci'\n",
      "Call 2 of 'fibonacci'\n",
      "Call 3 of 'fibonacci'\n",
      "Call 4 of 'fibonacci'\n",
      "Call 5 of 'fibonacci'\n",
      "Call 6 of 'fibonacci'\n",
      "Call 7 of 'fibonacci'\n",
      "Call 8 of 'fibonacci'\n",
      "Call 9 of 'fibonacci'\n",
      "Call 10 of 'fibonacci'\n",
      "Call 11 of 'fibonacci'\n",
      "Call 12 of 'fibonacci'\n",
      "Call 13 of 'fibonacci'\n",
      "Call 14 of 'fibonacci'\n",
      "Call 15 of 'fibonacci'\n",
      "Call 16 of 'fibonacci'\n",
      "Call 17 of 'fibonacci'\n",
      "Call 18 of 'fibonacci'\n",
      "Call 19 of 'fibonacci'\n",
      "Call 20 of 'fibonacci'\n",
      "Call 21 of 'fibonacci'\n",
      "Call 22 of 'fibonacci'\n",
      "Call 23 of 'fibonacci'\n",
      "Call 24 of 'fibonacci'\n",
      "Call 25 of 'fibonacci'\n",
      "Call 26 of 'fibonacci'\n",
      "Call 27 of 'fibonacci'\n",
      "Call 28 of 'fibonacci'\n",
      "Call 29 of 'fibonacci'\n",
      "Call 30 of 'fibonacci'\n",
      "Call 31 of 'fibonacci'\n",
      "Call 32 of 'fibonacci'\n",
      "Call 33 of 'fibonacci'\n",
      "Call 34 of 'fibonacci'\n",
      "Call 35 of 'fibonacci'\n",
      "Call 36 of 'fibonacci'\n",
      "Call 37 of 'fibonacci'\n",
      "Call 38 of 'fibonacci'\n",
      "Call 39 of 'fibonacci'\n",
      "Call 40 of 'fibonacci'\n",
      "Call 41 of 'fibonacci'\n",
      "Call 42 of 'fibonacci'\n",
      "Call 43 of 'fibonacci'\n",
      "Call 44 of 'fibonacci'\n",
      "Call 45 of 'fibonacci'\n",
      "Call 46 of 'fibonacci'\n",
      "Call 47 of 'fibonacci'\n",
      "Call 48 of 'fibonacci'\n",
      "Call 49 of 'fibonacci'\n",
      "Call 50 of 'fibonacci'\n",
      "Call 51 of 'fibonacci'\n",
      "Call 52 of 'fibonacci'\n",
      "Call 53 of 'fibonacci'\n",
      "Call 54 of 'fibonacci'\n",
      "Call 55 of 'fibonacci'\n",
      "Call 56 of 'fibonacci'\n",
      "Call 57 of 'fibonacci'\n",
      "Call 58 of 'fibonacci'\n",
      "Call 59 of 'fibonacci'\n",
      "Call 60 of 'fibonacci'\n",
      "Call 61 of 'fibonacci'\n",
      "Call 62 of 'fibonacci'\n",
      "Call 63 of 'fibonacci'\n",
      "Call 64 of 'fibonacci'\n",
      "Call 65 of 'fibonacci'\n",
      "Call 66 of 'fibonacci'\n",
      "Call 67 of 'fibonacci'\n",
      "Call 68 of 'fibonacci'\n",
      "Call 69 of 'fibonacci'\n",
      "Call 70 of 'fibonacci'\n",
      "Call 71 of 'fibonacci'\n",
      "Call 72 of 'fibonacci'\n",
      "Call 73 of 'fibonacci'\n",
      "Call 74 of 'fibonacci'\n",
      "Call 75 of 'fibonacci'\n",
      "Call 76 of 'fibonacci'\n",
      "Call 77 of 'fibonacci'\n",
      "Call 78 of 'fibonacci'\n",
      "Call 79 of 'fibonacci'\n",
      "Call 80 of 'fibonacci'\n",
      "Call 81 of 'fibonacci'\n",
      "Call 82 of 'fibonacci'\n",
      "Call 83 of 'fibonacci'\n",
      "Call 84 of 'fibonacci'\n",
      "Call 85 of 'fibonacci'\n",
      "Call 86 of 'fibonacci'\n",
      "Call 87 of 'fibonacci'\n",
      "Call 88 of 'fibonacci'\n",
      "Call 89 of 'fibonacci'\n",
      "Call 90 of 'fibonacci'\n",
      "Call 91 of 'fibonacci'\n",
      "Call 92 of 'fibonacci'\n",
      "Call 93 of 'fibonacci'\n",
      "Call 94 of 'fibonacci'\n",
      "Call 95 of 'fibonacci'\n",
      "Call 96 of 'fibonacci'\n",
      "Call 97 of 'fibonacci'\n",
      "Call 98 of 'fibonacci'\n",
      "Call 99 of 'fibonacci'\n",
      "Call 100 of 'fibonacci'\n",
      "Call 101 of 'fibonacci'\n",
      "Call 102 of 'fibonacci'\n",
      "Call 103 of 'fibonacci'\n",
      "Call 104 of 'fibonacci'\n",
      "Call 105 of 'fibonacci'\n",
      "Call 106 of 'fibonacci'\n",
      "Call 107 of 'fibonacci'\n",
      "Call 108 of 'fibonacci'\n",
      "Call 109 of 'fibonacci'\n",
      "Call 110 of 'fibonacci'\n",
      "Call 111 of 'fibonacci'\n",
      "Call 112 of 'fibonacci'\n",
      "Call 113 of 'fibonacci'\n",
      "Call 114 of 'fibonacci'\n",
      "Call 115 of 'fibonacci'\n",
      "Call 116 of 'fibonacci'\n",
      "Call 117 of 'fibonacci'\n",
      "Call 118 of 'fibonacci'\n",
      "Call 119 of 'fibonacci'\n",
      "Call 120 of 'fibonacci'\n",
      "Call 121 of 'fibonacci'\n",
      "Call 122 of 'fibonacci'\n",
      "Call 123 of 'fibonacci'\n",
      "Call 124 of 'fibonacci'\n",
      "Call 125 of 'fibonacci'\n",
      "Call 126 of 'fibonacci'\n",
      "Call 127 of 'fibonacci'\n",
      "Call 128 of 'fibonacci'\n",
      "Call 129 of 'fibonacci'\n",
      "Call 130 of 'fibonacci'\n",
      "Call 131 of 'fibonacci'\n",
      "Call 132 of 'fibonacci'\n",
      "Call 133 of 'fibonacci'\n",
      "Call 134 of 'fibonacci'\n",
      "Call 135 of 'fibonacci'\n",
      "Call 136 of 'fibonacci'\n",
      "Call 137 of 'fibonacci'\n",
      "Call 138 of 'fibonacci'\n",
      "Call 139 of 'fibonacci'\n",
      "Call 140 of 'fibonacci'\n",
      "Call 141 of 'fibonacci'\n",
      "Call 142 of 'fibonacci'\n",
      "Call 143 of 'fibonacci'\n",
      "Call 144 of 'fibonacci'\n",
      "Call 145 of 'fibonacci'\n",
      "Call 146 of 'fibonacci'\n",
      "Call 147 of 'fibonacci'\n",
      "Call 148 of 'fibonacci'\n",
      "Call 149 of 'fibonacci'\n",
      "Call 150 of 'fibonacci'\n",
      "Call 151 of 'fibonacci'\n",
      "Call 152 of 'fibonacci'\n",
      "Call 153 of 'fibonacci'\n",
      "Call 154 of 'fibonacci'\n",
      "Call 155 of 'fibonacci'\n",
      "Call 156 of 'fibonacci'\n",
      "Call 157 of 'fibonacci'\n",
      "Call 158 of 'fibonacci'\n",
      "Call 159 of 'fibonacci'\n",
      "Call 160 of 'fibonacci'\n",
      "Call 161 of 'fibonacci'\n",
      "Call 162 of 'fibonacci'\n",
      "Call 163 of 'fibonacci'\n",
      "Call 164 of 'fibonacci'\n",
      "Call 165 of 'fibonacci'\n",
      "Call 166 of 'fibonacci'\n",
      "Call 167 of 'fibonacci'\n",
      "Call 168 of 'fibonacci'\n",
      "Call 169 of 'fibonacci'\n",
      "Call 170 of 'fibonacci'\n",
      "Call 171 of 'fibonacci'\n",
      "Call 172 of 'fibonacci'\n",
      "Call 173 of 'fibonacci'\n",
      "Call 174 of 'fibonacci'\n",
      "Call 175 of 'fibonacci'\n",
      "Call 176 of 'fibonacci'\n",
      "Call 177 of 'fibonacci'\n"
     ]
    },
    {
     "data": {
      "text/plain": [
       "55"
      ]
     },
     "execution_count": 94,
     "metadata": {},
     "output_type": "execute_result"
    }
   ],
   "source": [
    "fibonacci(10)"
   ]
  },
  {
   "cell_type": "code",
   "execution_count": 95,
   "id": "0b8f9600-d0ce-401d-b9a7-af473e74b59a",
   "metadata": {},
   "outputs": [
    {
     "data": {
      "text/plain": [
       "177"
      ]
     },
     "execution_count": 95,
     "metadata": {},
     "output_type": "execute_result"
    }
   ],
   "source": [
    "fibonacci.num_calls"
   ]
  },
  {
   "cell_type": "code",
   "execution_count": 96,
   "id": "b550cba2-f50e-4b24-8c27-36529028777e",
   "metadata": {},
   "outputs": [],
   "source": [
    "import functools\n",
    "#from decorators import count_calls\n",
    "\n",
    "def cache(func):\n",
    "    \"\"\"Keep a cache of previous function calls\"\"\"\n",
    "    @functools.wraps(func)\n",
    "    def wrapper_cache(*args, **kwargs):\n",
    "        cache_key = args + tuple(kwargs.items())\n",
    "        if cache_key not in wrapper_cache.cache:\n",
    "            wrapper_cache.cache[cache_key] = func(*args, **kwargs)\n",
    "        return wrapper_cache.cache[cache_key]\n",
    "    wrapper_cache.cache = dict()\n",
    "    return wrapper_cache\n",
    "\n",
    "@cache\n",
    "@count_calls\n",
    "def fibonacci(num):\n",
    "    if num < 2:\n",
    "        return num\n",
    "    return fibonacci(num - 1) + fibonacci(num - 2)"
   ]
  },
  {
   "cell_type": "code",
   "execution_count": 97,
   "id": "f66788d1-2842-4074-90a3-4b4002f30607",
   "metadata": {},
   "outputs": [
    {
     "name": "stdout",
     "output_type": "stream",
     "text": [
      "Call 1 of 'fibonacci'\n",
      "Call 2 of 'fibonacci'\n",
      "Call 3 of 'fibonacci'\n",
      "Call 4 of 'fibonacci'\n",
      "Call 5 of 'fibonacci'\n",
      "Call 6 of 'fibonacci'\n",
      "Call 7 of 'fibonacci'\n",
      "Call 8 of 'fibonacci'\n",
      "Call 9 of 'fibonacci'\n",
      "Call 10 of 'fibonacci'\n",
      "Call 11 of 'fibonacci'\n"
     ]
    },
    {
     "data": {
      "text/plain": [
       "55"
      ]
     },
     "execution_count": 97,
     "metadata": {},
     "output_type": "execute_result"
    }
   ],
   "source": [
    "fibonacci(10)"
   ]
  },
  {
   "cell_type": "code",
   "execution_count": 99,
   "id": "1a34adb9-1a0d-4328-937b-10355fc974ec",
   "metadata": {},
   "outputs": [
    {
     "data": {
      "text/plain": [
       "21"
      ]
     },
     "execution_count": 99,
     "metadata": {},
     "output_type": "execute_result"
    }
   ],
   "source": [
    "fibonacci(8)"
   ]
  },
  {
   "cell_type": "code",
   "execution_count": 100,
   "id": "bea22b19-a5f5-4a47-9181-65a9e555e64f",
   "metadata": {},
   "outputs": [],
   "source": [
    "import functools\n",
    "\n",
    "@functools.lru_cache(maxsize=4)\n",
    "def fibonacci(num):\n",
    "    print(f\"Calculating fibonacci({num})\")\n",
    "    if num < 2:\n",
    "        return num\n",
    "    return fibonacci(num - 1) + fibonacci(num - 2)"
   ]
  },
  {
   "cell_type": "code",
   "execution_count": 101,
   "id": "fb9d674e-b6de-4ee4-b769-54d76894ac1c",
   "metadata": {},
   "outputs": [
    {
     "name": "stdout",
     "output_type": "stream",
     "text": [
      "Calculating fibonacci(10)\n",
      "Calculating fibonacci(9)\n",
      "Calculating fibonacci(8)\n",
      "Calculating fibonacci(7)\n",
      "Calculating fibonacci(6)\n",
      "Calculating fibonacci(5)\n",
      "Calculating fibonacci(4)\n",
      "Calculating fibonacci(3)\n",
      "Calculating fibonacci(2)\n",
      "Calculating fibonacci(1)\n",
      "Calculating fibonacci(0)\n"
     ]
    },
    {
     "data": {
      "text/plain": [
       "55"
      ]
     },
     "execution_count": 101,
     "metadata": {},
     "output_type": "execute_result"
    }
   ],
   "source": [
    "fibonacci(10)"
   ]
  },
  {
   "cell_type": "code",
   "execution_count": 102,
   "id": "4f46f99d-23b2-4edf-bbe5-680ae8c8e44c",
   "metadata": {},
   "outputs": [
    {
     "data": {
      "text/plain": [
       "21"
      ]
     },
     "execution_count": 102,
     "metadata": {},
     "output_type": "execute_result"
    }
   ],
   "source": [
    "fibonacci(8)"
   ]
  },
  {
   "cell_type": "code",
   "execution_count": 103,
   "id": "ae1d93d4-9c6e-45e8-9f03-a61bb0c8ba0c",
   "metadata": {},
   "outputs": [
    {
     "name": "stdout",
     "output_type": "stream",
     "text": [
      "Calculating fibonacci(5)\n",
      "Calculating fibonacci(4)\n",
      "Calculating fibonacci(3)\n",
      "Calculating fibonacci(2)\n",
      "Calculating fibonacci(1)\n",
      "Calculating fibonacci(0)\n"
     ]
    },
    {
     "data": {
      "text/plain": [
       "5"
      ]
     },
     "execution_count": 103,
     "metadata": {},
     "output_type": "execute_result"
    }
   ],
   "source": [
    "fibonacci(5)"
   ]
  },
  {
   "cell_type": "code",
   "execution_count": 104,
   "id": "c07e8143-cfb8-40a9-a583-f8f87bd42d4d",
   "metadata": {},
   "outputs": [
    {
     "name": "stdout",
     "output_type": "stream",
     "text": [
      "Calculating fibonacci(8)\n",
      "Calculating fibonacci(7)\n",
      "Calculating fibonacci(6)\n"
     ]
    },
    {
     "data": {
      "text/plain": [
       "21"
      ]
     },
     "execution_count": 104,
     "metadata": {},
     "output_type": "execute_result"
    }
   ],
   "source": [
    "fibonacci(8)"
   ]
  },
  {
   "cell_type": "code",
   "execution_count": 105,
   "id": "6cdefc79-92fd-4a72-b108-a594b79ec9c4",
   "metadata": {},
   "outputs": [
    {
     "data": {
      "text/plain": [
       "5"
      ]
     },
     "execution_count": 105,
     "metadata": {},
     "output_type": "execute_result"
    }
   ],
   "source": [
    "fibonacci(5)"
   ]
  },
  {
   "cell_type": "code",
   "execution_count": 106,
   "id": "38c07b72-cb71-471b-85c3-90a406472360",
   "metadata": {},
   "outputs": [
    {
     "data": {
      "text/plain": [
       "CacheInfo(hits=17, misses=20, maxsize=4, currsize=4)"
      ]
     },
     "execution_count": 106,
     "metadata": {},
     "output_type": "execute_result"
    }
   ],
   "source": [
    "fibonacci.cache_info()"
   ]
  },
  {
   "cell_type": "code",
   "execution_count": 107,
   "id": "096ddad8-5ca0-47ab-979d-71af05a2c178",
   "metadata": {},
   "outputs": [],
   "source": [
    "def set_unit(unit):\n",
    "    \"\"\"Register a unit on a function\"\"\"\n",
    "    def decorator_set_unit(func):\n",
    "        func.unit = unit\n",
    "        return func\n",
    "    return decorator_set_unit"
   ]
  },
  {
   "cell_type": "code",
   "execution_count": 108,
   "id": "f1fc0579-0da1-48d8-94ae-03b6dc592d2f",
   "metadata": {},
   "outputs": [],
   "source": [
    "import math\n",
    "\n",
    "@set_unit(\"cm^3\")\n",
    "def volume(radius, height):\n",
    "    return math.pi * radius**2 * height"
   ]
  },
  {
   "cell_type": "code",
   "execution_count": 109,
   "id": "b4b4b427-0866-492a-8901-45998ee80fe5",
   "metadata": {},
   "outputs": [
    {
     "data": {
      "text/plain": [
       "141.3716694115407"
      ]
     },
     "execution_count": 109,
     "metadata": {},
     "output_type": "execute_result"
    }
   ],
   "source": [
    "volume(3, 5)"
   ]
  },
  {
   "cell_type": "code",
   "execution_count": 110,
   "id": "f69e7ac2-145f-4abb-a919-64a31f8a722f",
   "metadata": {},
   "outputs": [
    {
     "data": {
      "text/plain": [
       "'cm^3'"
      ]
     },
     "execution_count": 110,
     "metadata": {},
     "output_type": "execute_result"
    }
   ],
   "source": [
    "volume.unit"
   ]
  },
  {
   "cell_type": "code",
   "execution_count": null,
   "id": "319e33a2-7966-4100-8639-6b2f46d86c3c",
   "metadata": {},
   "outputs": [],
   "source": []
  }
 ],
 "metadata": {
  "kernelspec": {
   "display_name": "Python 3 (ipykernel)",
   "language": "python",
   "name": "python3"
  },
  "language_info": {
   "codemirror_mode": {
    "name": "ipython",
    "version": 3
   },
   "file_extension": ".py",
   "mimetype": "text/x-python",
   "name": "python",
   "nbconvert_exporter": "python",
   "pygments_lexer": "ipython3",
   "version": "3.10.4"
  }
 },
 "nbformat": 4,
 "nbformat_minor": 5
}
